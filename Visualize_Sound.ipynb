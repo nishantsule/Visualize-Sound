{
 "cells": [
  {
   "cell_type": "markdown",
   "metadata": {},
   "source": [
    "## Visualize Sound"
   ]
  },
  {
   "cell_type": "markdown",
   "metadata": {},
   "source": [
    "This notebook helps you visualize the propagation of sound and its interaction with boundaries. To create the boundaries, the code allows you to either use your webcam to capture a frame or use an image. An edge detection algorithm is appied on the frame/image to generate the boundaries. A sound source is added to the center of the frame. The sound source can either be recorded using your microphone, or specified numerically by providing a frequency. The propagation medium can also be customized by entering sound velocity, medium density. In addition, a block can be inserted in the right half of the frame that is a different temperature (which can be entered) than the rest of the medium. \n",
    "\n",
    "The notebook relies on functions defined in the python file `VizSound.py` that we import in the following cell. If you are interested to see how the functions are implemented then open the `VizSound.py` file in another window to take a look."
   ]
  },
  {
   "cell_type": "code",
   "execution_count": null,
   "metadata": {},
   "outputs": [],
   "source": [
    "# Import relevant libraries\n",
    "import matplotlib.pyplot as plt\n",
    "import VizSound as vs"
   ]
  },
  {
   "cell_type": "code",
   "execution_count": null,
   "metadata": {},
   "outputs": [],
   "source": [
    "# Setting up how the notebook shows plots\n",
    "%matplotlib notebook\n",
    "plt.ion()"
   ]
  },
  {
   "cell_type": "markdown",
   "metadata": {},
   "source": [
    "### Setting up the simulation\n",
    "\n",
    "In order to setup the simulation, we have to go through two main steps. The first step is to choose how you will provide the frame from which boundaries are created. You can either use your webcam to capture a frame or simply use an image file (`.jpg` or `.png`). The code will then perform some image processing operations on the frame, such as resizing, edge detection, noise reduction, and thresholding to generate the boundaries. The second step is to choose the properties of the sound source and the propagating medium (we call this the sound set up). There is a default sound setup that you can use or you can customize everything including using your microphone to record an audio to use as the source signal. For setting up the simulation, simply run the cell below and follow the instructions."
   ]
  },
  {
   "cell_type": "code",
   "execution_count": null,
   "metadata": {},
   "outputs": [],
   "source": [
    "# Creating an object of the VSfdtd class defined in VizSound.py\n",
    "vs_obj = vs.VSfdtd()"
   ]
  },
  {
   "cell_type": "markdown",
   "metadata": {},
   "source": [
    "### Running the simulation\n",
    "\n",
    "This code simulates sound propagation by solving the [acoustic wave equation](https://en.wikipedia.org/wiki/Acoustic_wave_equation#Equation) using a method known as the [finite-difference time-domain](https://en.wikipedia.org/wiki/Finite-difference_time-domain_method) (FDTD). The FDTD method was originally estalished for solving the electromagnetic wave equation, however one can make a direct correspondence between the electromagnetic and acoustic wave equations and apply the same method. In brief, the FDTD method converts the coupled partial differential equations into algebraic equations that are solved in time and space. Running the simulation essentially means running the loop in which these algebraic equations are solved. The results (sound pressure) are displayed in real time below the cell. To run the simulation all you have to do is run the cell below."
   ]
  },
  {
   "cell_type": "code",
   "execution_count": null,
   "metadata": {},
   "outputs": [],
   "source": [
    "# Run the FDTD loop to propagate sound waves and display results\n",
    "vs.propagate_sound(vs_obj)"
   ]
  },
  {
   "cell_type": "code",
   "execution_count": null,
   "metadata": {},
   "outputs": [],
   "source": []
  },
  {
   "cell_type": "code",
   "execution_count": null,
   "metadata": {},
   "outputs": [],
   "source": []
  }
 ],
 "metadata": {
  "kernelspec": {
   "display_name": "Python 3 (ipykernel)",
   "language": "python",
   "name": "python3"
  },
  "language_info": {
   "codemirror_mode": {
    "name": "ipython",
    "version": 3
   },
   "file_extension": ".py",
   "mimetype": "text/x-python",
   "name": "python",
   "nbconvert_exporter": "python",
   "pygments_lexer": "ipython3",
   "version": "3.9.7"
  }
 },
 "nbformat": 4,
 "nbformat_minor": 4
}
