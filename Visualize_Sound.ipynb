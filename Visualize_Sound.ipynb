{
 "cells": [
  {
   "cell_type": "markdown",
   "metadata": {},
   "source": [
    "## Visualize Sound"
   ]
  },
  {
   "cell_type": "markdown",
   "metadata": {},
   "source": [
    "This notebook helps you visualize the propagation of sound and its interaction with boundaries. To create the boundaries, the code allows you to either use your webcam to capture a frame or use an image. An edge detection algorithm is appied on the frame/image to generate the boundaries. A sound source is added to the center of the frame. The sound source can either be recorded using your microphone, or specified numerically by providing a frequency. The propagation medium can also be customized by entering sound velocity, medium density. In addition, a block can be inserted in the right half of the frame that is a different temperature (which can be entered) than the rest of the medium. \n",
    "\n",
    "The notebook relies on functions defined in the python file `VizSound.py` that we import in the following cell. If you are interested to see how the functions are implemented then open the `VizSound.py` file in another window to take a look."
   ]
  },
  {
   "cell_type": "code",
   "execution_count": null,
   "metadata": {},
   "outputs": [],
   "source": [
    "# Import relevant libraries\n",
    "import matplotlib.pyplot as plt\n",
    "import VizSound as vs"
   ]
  },
  {
   "cell_type": "code",
   "execution_count": null,
   "metadata": {},
   "outputs": [],
   "source": [
    "# Setting up how the notebook shows plots\n",
    "%matplotlib notebook\n",
    "plt.ion()"
   ]
  },
  {
   "cell_type": "markdown",
   "metadata": {},
   "source": [
    "### Setting up the simulation"
   ]
  },
  {
   "cell_type": "code",
   "execution_count": null,
   "metadata": {
    "scrolled": false
   },
   "outputs": [],
   "source": [
    "# Creating an object of the VSfdtd class defined in VizSound.py\n",
    "vs_obj = vs.VSfdtd()"
   ]
  },
  {
   "cell_type": "code",
   "execution_count": null,
   "metadata": {},
   "outputs": [],
   "source": [
    "# Run the FDTD loop to propagate sound waves and display results\n",
    "vs.propagate_sound(vs_obj)"
   ]
  },
  {
   "cell_type": "code",
   "execution_count": null,
   "metadata": {},
   "outputs": [],
   "source": []
  }
 ],
 "metadata": {
  "kernelspec": {
   "display_name": "Python 3",
   "language": "python",
   "name": "python3"
  },
  "language_info": {
   "codemirror_mode": {
    "name": "ipython",
    "version": 3
   },
   "file_extension": ".py",
   "mimetype": "text/x-python",
   "name": "python",
   "nbconvert_exporter": "python",
   "pygments_lexer": "ipython3",
   "version": "3.6.2"
  }
 },
 "nbformat": 4,
 "nbformat_minor": 2
}
